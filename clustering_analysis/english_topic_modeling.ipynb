{
 "cells": [
  {
   "cell_type": "code",
   "execution_count": null,
   "metadata": {},
   "outputs": [
    {
     "name": "stderr",
     "output_type": "stream",
     "text": [
      "2025-03-04 18:13:10,509 - BERTopic - Dimensionality - Fitting the dimensionality reduction algorithm\n",
      "2025-03-04 18:13:10,588 - BERTopic - Dimensionality - Completed ✓\n",
      "2025-03-04 18:13:10,588 - BERTopic - Cluster - Start clustering the reduced embeddings\n",
      "2025-03-04 18:13:10,591 - BERTopic - Cluster - Completed ✓\n",
      "2025-03-04 18:13:10,592 - BERTopic - Representation - Extracting topics from clusters using representation models.\n",
      "2025-03-04 18:13:10,597 - BERTopic - Representation - Completed ✓\n"
     ]
    },
    {
     "name": "stdout",
     "output_type": "stream",
     "text": [
      "Could not save as PNG (\n",
      "Image export using the \"kaleido\" engine requires the kaleido package,\n",
      "which can be installed using pip:\n",
      "    $ pip install -U kaleido\n",
      "), saving as HTML instead\n",
      "Saved topic_barchart.html\n",
      "Could not save as PNG (\n",
      "Image export using the \"kaleido\" engine requires the kaleido package,\n",
      "which can be installed using pip:\n",
      "    $ pip install -U kaleido\n",
      "), saving as HTML instead\n",
      "Saved topic_hierarchy.html\n",
      "Error generating visualization topic_network: zero-size array to reduction operation maximum which has no identity\n",
      "Couldn't generate topic over time visualization: BERTopic.visualize_topics_over_time() got an unexpected keyword argument 'datetime_values'\n",
      "Couldn't generate topic heatmap: Make sure to set `n_clusters` lower than the total number of unique topics.\n"
     ]
    },
    {
     "ename": "AttributeError",
     "evalue": "'BERTopic' object has no attribute 'get_topic_id2index'",
     "output_type": "error",
     "traceback": [
      "\u001b[31m---------------------------------------------------------------------------\u001b[39m",
      "\u001b[31mAttributeError\u001b[39m                            Traceback (most recent call last)",
      "\u001b[36mCell\u001b[39m\u001b[36m \u001b[39m\u001b[32mIn[10]\u001b[39m\u001b[32m, line 154\u001b[39m\n\u001b[32m    151\u001b[39m \u001b[38;5;28;01mfor\u001b[39;00m topic \u001b[38;5;129;01min\u001b[39;00m top_topics:\n\u001b[32m    152\u001b[39m     \u001b[38;5;28;01mif\u001b[39;00m topic != -\u001b[32m1\u001b[39m:  \u001b[38;5;66;03m# Skip the \"outlier\" topic\u001b[39;00m\n\u001b[32m    153\u001b[39m         \u001b[38;5;66;03m# Get probabilities for this topic\u001b[39;00m\n\u001b[32m--> \u001b[39m\u001b[32m154\u001b[39m         topic_probs = doc_topic_matrix[:, \u001b[43mtopic_model\u001b[49m\u001b[43m.\u001b[49m\u001b[43mget_topic_id2index\u001b[49m()[topic]]\n\u001b[32m    155\u001b[39m         plt.hist(topic_probs, bins=\u001b[32m50\u001b[39m, alpha=\u001b[32m0.5\u001b[39m, label=\u001b[33mf\u001b[39m\u001b[33m\"\u001b[39m\u001b[33mTopic \u001b[39m\u001b[38;5;132;01m{\u001b[39;00mtopic\u001b[38;5;132;01m}\u001b[39;00m\u001b[33m\"\u001b[39m)\n\u001b[32m    157\u001b[39m plt.title(\u001b[33m'\u001b[39m\u001b[33mDocument-Topic Probability Distribution\u001b[39m\u001b[33m'\u001b[39m)\n",
      "\u001b[31mAttributeError\u001b[39m: 'BERTopic' object has no attribute 'get_topic_id2index'"
     ]
    },
    {
     "data": {
      "image/png": "[encoded data removed]",
      "text/plain": [
       "<Figure size 1400x800 with 2 Axes>"
      ]
     },
     "metadata": {},
     "output_type": "display_data"
    },
    {
     "data": {
      "text/plain": [
       "<Figure size 1200x600 with 0 Axes>"
      ]
     },
     "metadata": {},
     "output_type": "display_data"
    }
   ],
   "source": [
    "# Import necessary libraries\n",
    "import pandas as pd\n",
    "import numpy as np\n",
    "import os\n",
    "import matplotlib.pyplot as plt\n",
    "from bertopic import BERTopic\n",
    "from umap import UMAP\n",
    "from wordcloud import WordCloud\n",
    "import plotly.io as pio\n",
    "from IPython.display import display, HTML\n",
    "\n",
    "# Configure Plotly to render in notebook\n",
    "pio.renderers.default = \"notebook\"\n",
    "\n",
    "# Set up directory paths dynamically\n",
    "current_dir = os.path.dirname(os.path.abspath('__file__'))\n",
    "PROJECT_ROOT = os.path.dirname(current_dir)\n",
    "\n",
    "# Set paths\n",
    "DATA_DIR = os.path.join(PROJECT_ROOT, \"data\", \"data1\")\n",
    "PICKLE_PATH = os.path.join(DATA_DIR, \"processed_data.pkl\")\n",
    "VIZ_DIR = os.path.join(DATA_DIR, \"visualizations\", \"english\")\n",
    "\n",
    "# Create visualization directory if it doesn't exist\n",
    "os.makedirs(VIZ_DIR, exist_ok=True)\n",
    "\n",
    "# Load processed data directly from the pickle file\n",
    "print(\"Loading data from pickle file...\")\n",
    "df = pd.read_pickle(PICKLE_PATH)\n",
    "print(f\"Loaded dataframe with {len(df)} rows and {len(df.columns)} columns\")\n",
    "\n",
    "# Extract English text and embeddings\n",
    "english_text_col = 'english_text_processed'  # Assuming this is the column name\n",
    "english_embedding_col = 'english_text_embedding'  # Assuming this is the column name\n",
    "\n",
    "# Extract English text and filter out empty texts\n",
    "english_corpus = df[english_text_col].fillna(\"\").tolist()\n",
    "non_empty_indices = [i for i, doc in enumerate(english_corpus) if isinstance(doc, str) and doc.strip() != \"\"]\n",
    "filtered_corpus = [english_corpus[i] for i in non_empty_indices]\n",
    "print(f\"Filtered corpus contains {len(filtered_corpus)} non-empty documents\")\n",
    "\n",
    "# Extract pre-computed embeddings directly\n",
    "raw_embeddings = df[english_embedding_col].tolist()\n",
    "embeddings = np.array([raw_embeddings[i] for i in non_empty_indices])\n",
    "print(f\"Extracted embeddings with shape {embeddings.shape}\")\n",
    "\n",
    "# Create a BERTopic model with default settings\n",
    "print(\"\\nCreating and fitting BERTopic model...\")\n",
    "topic_model = BERTopic(\n",
    "    calculate_probabilities=True,\n",
    "    verbose=True\n",
    ")\n",
    "\n",
    "# Fit the model using precomputed embeddings\n",
    "topics, probs = topic_model.fit_transform(filtered_corpus, embeddings=embeddings)\n",
    "\n",
    "# Get topic info\n",
    "topic_info = topic_model.get_topic_info()\n",
    "print(\"\\nTop 10 topics by document count:\")\n",
    "display(topic_info[topic_info['Topic'] != -1].sort_values('Count', ascending=False).head(10))\n",
    "\n",
    "# Generate and display visualizations while also saving to files\n",
    "print(\"\\nGenerating visualizations...\")\n",
    "\n",
    "# 1. Topic barchart\n",
    "print(\"\\n1. Topic Barchart\")\n",
    "fig_barchart = topic_model.visualize_barchart(top_n_topics=10, n_words=10)\n",
    "fig_barchart.write_html(os.path.join(VIZ_DIR, \"topic_barchart.html\"))\n",
    "fig_barchart.write_image(os.path.join(VIZ_DIR, \"topic_barchart.png\"), width=1200, height=800)\n",
    "display(fig_barchart)\n",
    "\n",
    "# 2. Topic hierarchy\n",
    "print(\"\\n2. Topic Hierarchy\")\n",
    "fig_hierarchy = topic_model.visualize_hierarchy(top_n_topics=50)\n",
    "fig_hierarchy.write_html(os.path.join(VIZ_DIR, \"topic_hierarchy.html\"))\n",
    "fig_hierarchy.write_image(os.path.join(VIZ_DIR, \"topic_hierarchy.png\"), width=1200, height=800)\n",
    "display(fig_hierarchy)\n",
    "\n",
    "# 3. Topic network\n",
    "print(\"\\n3. Topic Network\")\n",
    "fig_network = topic_model.visualize_topics(top_n_topics=20)\n",
    "fig_network.write_html(os.path.join(VIZ_DIR, \"topic_network.html\"))\n",
    "fig_network.write_image(os.path.join(VIZ_DIR, \"topic_network.png\"), width=1200, height=800)\n",
    "display(fig_network)\n",
    "\n",
    "# 4. Topic word clouds\n",
    "print(\"\\n4. Topic Word Clouds\")\n",
    "# Create a directory for word clouds\n",
    "wordcloud_dir = os.path.join(VIZ_DIR, \"wordclouds\")\n",
    "os.makedirs(wordcloud_dir, exist_ok=True)\n",
    "\n",
    "# Get top topics\n",
    "top_topics = topic_info[topic_info['Topic'] != -1].sort_values('Count', ascending=False)['Topic'].head(10).tolist()\n",
    "\n",
    "# Generate word cloud for each top topic\n",
    "for topic in top_topics:\n",
    "    words = topic_model.get_topic(topic)\n",
    "    if words:\n",
    "        # Create a dictionary of word:weight pairs\n",
    "        word_dict = {word: weight for word, weight in words}\n",
    "        \n",
    "        # Generate word cloud\n",
    "        wordcloud = WordCloud(width=800, height=400, background_color='white', \n",
    "                             colormap='viridis', max_words=50)\n",
    "        wordcloud.generate_from_frequencies(word_dict)\n",
    "        \n",
    "        # Create figure\n",
    "        plt.figure(figsize=(10, 5))\n",
    "        plt.imshow(wordcloud, interpolation='bilinear')\n",
    "        plt.axis('off')\n",
    "        plt.title(f'Topic {topic} Word Cloud')\n",
    "        plt.tight_layout()\n",
    "        \n",
    "        # Save figure\n",
    "        plt.savefig(os.path.join(wordcloud_dir, f\"topic_{topic}_wordcloud.png\"))\n",
    "        \n",
    "        # Display in notebook\n",
    "        display(plt.gcf())\n",
    "        plt.close()\n",
    "\n",
    "print(\"\\nTopic modeling complete!\")\n",
    "print(f\"Visualizations saved to: {VIZ_DIR}\")"
   ]
  }
 ],
 "metadata": {
  "kernelspec": {
   "display_name": "venv",
   "language": "python",
   "name": "python3"
  },
  "language_info": {
   "codemirror_mode": {
    "name": "ipython",
    "version": 3
   },
   "file_extension": ".py",
   "mimetype": "text/x-python",
   "name": "python",
   "nbconvert_exporter": "python",
   "pygments_lexer": "ipython3",
   "version": "3.13.1"
  }
 },
 "nbformat": 4,
 "nbformat_minor": 2
}
