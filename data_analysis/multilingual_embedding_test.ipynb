{
 "cells": [
  {
   "cell_type": "code",
   "execution_count": null,
   "metadata": {},
   "outputs": [],
   "source": [
    "import os\n",
    "import yaml\n",
    "import numpy as np\n",
    "from openai import OpenAI\n",
    "from numpy.linalg import norm\n",
    "\n",
    "\n",
    "current_dir = os.path.dirname(os.path.abspath('__file__'))\n",
    "# Parent directory is the project root\n",
    "PROJECT_ROOT = os.path.dirname(current_dir)\n",
    "\n",
    "# Read the API key from secrets.yaml\n",
    "secrets_path = os.path.join(PROJECT_ROOT, \"secrets.yaml\")\n",
    "with open(secrets_path, 'r') as f:\n",
    "    secrets = yaml.safe_load(f)\n",
    "\n",
    "if \"gpt_key\" not in secrets:\n",
    "    raise ValueError(\"GPT key not found in secrets.yml\")"
   ]
  },
  {
   "cell_type": "code",
   "execution_count": null,
   "metadata": {},
   "outputs": [],
   "source": [
    "# Initialize OpenAI client\n",
    "co = cohere.Client(api_key=secrets[\"cohere_key\"])\n",
    "\n",
    "def get_embedding(text):\n",
    "    \"\"\"Get embedding for a given text using Cohere's API\"\"\"\n",
    "    response = co.embed(\n",
    "        texts=[text],\n",
    "        model=\"embed-multilingual-v3.0\",\n",
    "        input_type=\"search_document\"\n",
    "    )\n",
    "    return response.embeddings[0]\n",
    "\n",
    "def cosine_similarity(a, b):\n",
    "    \"\"\"Calculate cosine similarity between two vectors\"\"\"\n",
    "    return np.dot(a, b) / (norm(a) * norm(b))"
   ]
  },
  {
   "cell_type": "code",
   "execution_count": null,
   "metadata": {},
   "outputs": [],
   "source": [
    "phrase1 = \"I like ice cream\"\n",
    "phrase2 = \"me gusta el helado\"\n",
    "\n",
    "embedding1 = get_embedding(phrase1)\n",
    "embedding2 = get_embedding(phrase2)"
   ]
  },
  {
   "cell_type": "code",
   "execution_count": null,
   "metadata": {},
   "outputs": [],
   "source": [
    "# Calculate and print similarity\n",
    "similarity = cosine_similarity(embedding1, embedding2)\n",
    "print(f\"Cosine similarity between '{phrase1}' and '{phrase2}': {similarity:.4f}\")"
   ]
  }
 ],
 "metadata": {
  "kernelspec": {
   "display_name": "venv",
   "language": "python",
   "name": "python3"
  },
  "language_info": {
   "codemirror_mode": {
    "name": "ipython",
    "version": 3
   },
   "file_extension": ".py",
   "mimetype": "text/x-python",
   "name": "python",
   "nbconvert_exporter": "python",
   "pygments_lexer": "ipython3",
   "version": "3.13.1"
  }
 },
 "nbformat": 4,
 "nbformat_minor": 2
}
