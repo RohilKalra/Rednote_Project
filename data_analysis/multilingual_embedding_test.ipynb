{
 "cells": [
  {
   "cell_type": "code",
   "execution_count": null,
   "metadata": {},
   "outputs": [],
   "source": [
    "import os\n",
    "import yaml\n",
    "import numpy as np\n",
    "from openai import OpenAI\n",
    "from numpy.linalg import norm\n",
    "\n",
    "\n",
    "current_dir = os.path.dirname(os.path.abspath('__file__'))\n",
    "# Parent directory is the project root\n",
    "PROJECT_ROOT = os.path.dirname(current_dir)\n",
    "\n",
    "# Read the API key from secrets.yaml\n",
    "secrets_path = os.path.join(PROJECT_ROOT, \"secrets.yaml\")\n",
    "with open(secrets_path, 'r') as f:\n",
    "    secrets = yaml.safe_load(f)\n",
    "\n",
    "if \"gpt_key\" not in secrets:\n",
    "    raise ValueError(\"GPT key not found in secrets.yml\")"
   ]
  },
  {
   "cell_type": "code",
   "execution_count": 1,
   "metadata": {},
   "outputs": [
    {
     "ename": "NameError",
     "evalue": "name 'cohere' is not defined",
     "output_type": "error",
     "traceback": [
      "\u001b[31m---------------------------------------------------------------------------\u001b[39m",
      "\u001b[31mNameError\u001b[39m                                 Traceback (most recent call last)",
      "\u001b[36mCell\u001b[39m\u001b[36m \u001b[39m\u001b[32mIn[1]\u001b[39m\u001b[32m, line 2\u001b[39m\n\u001b[32m      1\u001b[39m \u001b[38;5;66;03m# Initialize OpenAI client\u001b[39;00m\n\u001b[32m----> \u001b[39m\u001b[32m2\u001b[39m co = \u001b[43mcohere\u001b[49m.Client(api_key=secrets[\u001b[33m\"\u001b[39m\u001b[33mcohere_key\u001b[39m\u001b[33m\"\u001b[39m])\n\u001b[32m      4\u001b[39m \u001b[38;5;28;01mdef\u001b[39;00m\u001b[38;5;250m \u001b[39m\u001b[34mget_embedding\u001b[39m(text):\n\u001b[32m      5\u001b[39m \u001b[38;5;250m    \u001b[39m\u001b[33;03m\"\"\"Get embedding for a given text using Cohere's API\"\"\"\u001b[39;00m\n",
      "\u001b[31mNameError\u001b[39m: name 'cohere' is not defined"
     ]
    }
   ],
   "source": [
    "# Initialize OpenAI client\n",
    "co = cohere.Client(api_key=secrets[\"cohere_key\"])\n",
    "\n",
    "def get_embedding(text):\n",
    "    \"\"\"Get embedding for a given text using Cohere's API\"\"\"\n",
    "    response = co.embed(\n",
    "        texts=[text],\n",
    "        model=\"embed-multilingual-v3.0\",\n",
    "        input_type=\"search_document\"\n",
    "    )\n",
    "    return response.embeddings[0]\n",
    "\n",
    "def cosine_similarity(a, b):\n",
    "    \"\"\"Calculate cosine similarity between two vectors\"\"\"\n",
    "    return np.dot(a, b) / (norm(a) * norm(b))"
   ]
  },
  {
   "cell_type": "code",
   "execution_count": null,
   "metadata": {},
   "outputs": [],
   "source": [
    "phrase1 = \"I like ice cream\"\n",
    "phrase2 = \"me gusta el helado\"\n",
    "\n",
    "embedding1 = get_embedding(phrase1)\n",
    "embedding2 = get_embedding(phrase2)"
   ]
  },
  {
   "cell_type": "code",
   "execution_count": null,
   "metadata": {},
   "outputs": [
    {
     "name": "stdout",
     "output_type": "stream",
     "text": [
      "Cosine similarity between 'I like ice cream' and 'me gusta el helado': 0.7489\n"
     ]
    }
   ],
   "source": [
    "# Calculate and print similarity\n",
    "similarity = cosine_similarity(embedding1, embedding2)\n",
    "print(f\"Cosine similarity between '{phrase1}' and '{phrase2}': {similarity:.4f}\")"
   ]
  }
 ],
 "metadata": {
  "kernelspec": {
   "display_name": "venv",
   "language": "python",
   "name": "python3"
  },
  "language_info": {
   "codemirror_mode": {
    "name": "ipython",
    "version": 3
   },
   "file_extension": ".py",
   "mimetype": "text/x-python",
   "name": "python",
   "nbconvert_exporter": "python",
   "pygments_lexer": "ipython3",
   "version": "3.13.1"
  }
 },
 "nbformat": 4,
 "nbformat_minor": 2
}
